{
 "cells": [
  {
   "cell_type": "markdown",
   "metadata": {},
   "source": [
    "# Session 1 - The Basics"
   ]
  },
  {
   "cell_type": "markdown",
   "metadata": {},
   "source": [
    "## Table of Contents"
   ]
  },
  {
   "cell_type": "markdown",
   "metadata": {},
   "source": [
    "* Markdowns\n",
    "* Operators\n",
    "* Data\n",
    "* Data + Operators (where the fun begins)\n",
    "* Loading Data\n",
    "* Describing Data"
   ]
  },
  {
   "cell_type": "markdown",
   "metadata": {},
   "source": [
    "## Markdowns"
   ]
  },
  {
   "cell_type": "markdown",
   "metadata": {},
   "source": [
    "# This is a level one heading"
   ]
  },
  {
   "cell_type": "markdown",
   "metadata": {},
   "source": [
    "## This is a level two heading"
   ]
  },
  {
   "cell_type": "markdown",
   "metadata": {},
   "source": [
    "* This is bulleted list"
   ]
  },
  {
   "cell_type": "markdown",
   "metadata": {},
   "source": [
    "1. This is numbered list"
   ]
  },
  {
   "cell_type": "markdown",
   "metadata": {},
   "source": [
    "## Operators"
   ]
  },
  {
   "cell_type": "markdown",
   "metadata": {},
   "source": [
    "### Simple Operators (Plain Vanilla Aritmethics)"
   ]
  },
  {
   "cell_type": "code",
   "execution_count": 1,
   "metadata": {},
   "outputs": [
    {
     "data": {
      "text/plain": [
       "2"
      ]
     },
     "execution_count": 1,
     "metadata": {},
     "output_type": "execute_result"
    }
   ],
   "source": [
    "1 + 1 "
   ]
  },
  {
   "cell_type": "code",
   "execution_count": 16,
   "metadata": {},
   "outputs": [
    {
     "data": {
      "text/plain": [
       "4"
      ]
     },
     "execution_count": 16,
     "metadata": {},
     "output_type": "execute_result"
    }
   ],
   "source": [
    "2 * 2 "
   ]
  },
  {
   "cell_type": "code",
   "execution_count": 17,
   "metadata": {},
   "outputs": [
    {
     "data": {
      "text/plain": [
       "3"
      ]
     },
     "execution_count": 17,
     "metadata": {},
     "output_type": "execute_result"
    }
   ],
   "source": [
    "2 * 2 - 1"
   ]
  },
  {
   "cell_type": "code",
   "execution_count": 19,
   "metadata": {},
   "outputs": [
    {
     "data": {
      "text/plain": [
       "2.0"
      ]
     },
     "execution_count": 19,
     "metadata": {},
     "output_type": "execute_result"
    }
   ],
   "source": [
    "2 * 2 / 2"
   ]
  },
  {
   "cell_type": "markdown",
   "metadata": {},
   "source": [
    "## Logical Operators"
   ]
  },
  {
   "cell_type": "markdown",
   "metadata": {},
   "source": [
    "We can evaluate logical expressions through logical operators."
   ]
  },
  {
   "cell_type": "code",
   "execution_count": 3,
   "metadata": {},
   "outputs": [
    {
     "data": {
      "text/plain": [
       "False"
      ]
     },
     "execution_count": 3,
     "metadata": {},
     "output_type": "execute_result"
    }
   ],
   "source": [
    "1 == 2"
   ]
  },
  {
   "cell_type": "code",
   "execution_count": 4,
   "metadata": {},
   "outputs": [
    {
     "data": {
      "text/plain": [
       "True"
      ]
     },
     "execution_count": 4,
     "metadata": {},
     "output_type": "execute_result"
    }
   ],
   "source": [
    "not 1 == 2"
   ]
  },
  {
   "cell_type": "code",
   "execution_count": 5,
   "metadata": {},
   "outputs": [
    {
     "data": {
      "text/plain": [
       "True"
      ]
     },
     "execution_count": 5,
     "metadata": {},
     "output_type": "execute_result"
    }
   ],
   "source": [
    "1 == 2 or 3 > 2"
   ]
  },
  {
   "cell_type": "code",
   "execution_count": 6,
   "metadata": {},
   "outputs": [
    {
     "data": {
      "text/plain": [
       "True"
      ]
     },
     "execution_count": 6,
     "metadata": {},
     "output_type": "execute_result"
    }
   ],
   "source": [
    "1 == 1 and 4 < 10"
   ]
  },
  {
   "cell_type": "markdown",
   "metadata": {},
   "source": [
    "## Complex Operators (functions)"
   ]
  },
  {
   "cell_type": "code",
   "execution_count": 25,
   "metadata": {},
   "outputs": [
    {
     "data": {
      "text/plain": [
       "100"
      ]
     },
     "execution_count": 25,
     "metadata": {},
     "output_type": "execute_result"
    }
   ],
   "source": [
    "max(1,5,7,10,100)"
   ]
  },
  {
   "cell_type": "code",
   "execution_count": 26,
   "metadata": {},
   "outputs": [
    {
     "data": {
      "text/plain": [
       "1"
      ]
     },
     "execution_count": 26,
     "metadata": {},
     "output_type": "execute_result"
    }
   ],
   "source": [
    "min(1,5,7,10,100)"
   ]
  },
  {
   "cell_type": "markdown",
   "metadata": {},
   "source": [
    "## Data"
   ]
  },
  {
   "cell_type": "markdown",
   "metadata": {},
   "source": [
    "We can define specific words to represent data."
   ]
  },
  {
   "cell_type": "code",
   "execution_count": 27,
   "metadata": {},
   "outputs": [],
   "source": [
    "number_a = 10\n",
    "number_b = 8"
   ]
  },
  {
   "cell_type": "markdown",
   "metadata": {},
   "source": [
    "Then we can apply operators to those words, we will from now call them variables, and obtain results or assign those results to other variables."
   ]
  },
  {
   "cell_type": "code",
   "execution_count": 28,
   "metadata": {},
   "outputs": [],
   "source": [
    "number_c = number_a*number_b"
   ]
  },
  {
   "cell_type": "code",
   "execution_count": 29,
   "metadata": {},
   "outputs": [],
   "source": [
    "number_d = number_a+number_c"
   ]
  },
  {
   "cell_type": "code",
   "execution_count": 32,
   "metadata": {},
   "outputs": [],
   "source": [
    "number_e = number_d-number_b"
   ]
  },
  {
   "cell_type": "markdown",
   "metadata": {},
   "source": [
    "There are different kinds of data.\n",
    "* Numbers\n",
    "* Lists of numbers\n",
    "* Characters\n",
    "* Lists of characters\n",
    "* and many more"
   ]
  },
  {
   "cell_type": "code",
   "execution_count": 37,
   "metadata": {},
   "outputs": [],
   "source": [
    "numberList = [number_a,number_b,number_c,number_d,number_e]"
   ]
  },
  {
   "cell_type": "code",
   "execution_count": 41,
   "metadata": {},
   "outputs": [],
   "source": [
    "char_1 ='J'\n",
    "char_2 ='o'\n",
    "char_3 ='h'\n",
    "char_4 ='n'"
   ]
  },
  {
   "cell_type": "code",
   "execution_count": 52,
   "metadata": {},
   "outputs": [],
   "source": [
    "name_1 = char_1+char_2+char_3+char_4"
   ]
  },
  {
   "cell_type": "code",
   "execution_count": 53,
   "metadata": {},
   "outputs": [
    {
     "data": {
      "text/plain": [
       "'John'"
      ]
     },
     "execution_count": 53,
     "metadata": {},
     "output_type": "execute_result"
    }
   ],
   "source": [
    "name_1"
   ]
  },
  {
   "cell_type": "code",
   "execution_count": 54,
   "metadata": {},
   "outputs": [
    {
     "data": {
      "text/plain": [
       "2"
      ]
     },
     "execution_count": 54,
     "metadata": {},
     "output_type": "execute_result"
    }
   ],
   "source": [
    "name_1.find('h')"
   ]
  },
  {
   "cell_type": "code",
   "execution_count": 55,
   "metadata": {},
   "outputs": [
    {
     "name": "stdout",
     "output_type": "stream",
     "text": [
      "Hello John\n"
     ]
    }
   ],
   "source": [
    "print('Hello ' + name_1)"
   ]
  },
  {
   "cell_type": "markdown",
   "metadata": {},
   "source": [
    "We can build our own operators using data and the existing operators. These type of operators we call functions."
   ]
  },
  {
   "cell_type": "code",
   "execution_count": 57,
   "metadata": {},
   "outputs": [],
   "source": [
    "def greet (name):\n",
    "    gretting = 'Hello '+name +', have a wonderful day'\n",
    "    return gretting\n",
    "    "
   ]
  },
  {
   "cell_type": "code",
   "execution_count": 58,
   "metadata": {},
   "outputs": [
    {
     "data": {
      "text/plain": [
       "'Hello John, have a wonderful day'"
      ]
     },
     "execution_count": 58,
     "metadata": {},
     "output_type": "execute_result"
    }
   ],
   "source": [
    "greet (name_1)"
   ]
  },
  {
   "cell_type": "markdown",
   "metadata": {},
   "source": [
    "## Loading Data"
   ]
  },
  {
   "cell_type": "markdown",
   "metadata": {},
   "source": [
    "Data we want to analyze will usually come in an external file on a tabular form.\n",
    "To load this type of data in our notebook we need to use a library. \n",
    "A library is an external collection of different data types and operators that someone built for an specific purpose.\n",
    "Python has many libraries, the one used for working with data is called Pandas. Pandas is not the only library used for this purpose but it is the most popular and arguible the best."
   ]
  },
  {
   "cell_type": "markdown",
   "metadata": {},
   "source": [
    "To be able to use a library, first of all we need to import the library to our notebook. "
   ]
  },
  {
   "cell_type": "code",
   "execution_count": 165,
   "metadata": {},
   "outputs": [],
   "source": [
    "import pandas as pd"
   ]
  },
  {
   "cell_type": "markdown",
   "metadata": {},
   "source": [
    "once the library is imported we have access to all the data structures and functions that it includes"
   ]
  },
  {
   "cell_type": "code",
   "execution_count": 63,
   "metadata": {},
   "outputs": [],
   "source": [
    "orders = pd.read_csv('DataSources/01-OrderData.csv')"
   ]
  },
  {
   "cell_type": "code",
   "execution_count": 166,
   "metadata": {},
   "outputs": [
    {
     "data": {
      "text/html": [
       "<div>\n",
       "<style scoped>\n",
       "    .dataframe tbody tr th:only-of-type {\n",
       "        vertical-align: middle;\n",
       "    }\n",
       "\n",
       "    .dataframe tbody tr th {\n",
       "        vertical-align: top;\n",
       "    }\n",
       "\n",
       "    .dataframe thead th {\n",
       "        text-align: right;\n",
       "    }\n",
       "</style>\n",
       "<table border=\"1\" class=\"dataframe\">\n",
       "  <thead>\n",
       "    <tr style=\"text-align: right;\">\n",
       "      <th></th>\n",
       "      <th>ClientID</th>\n",
       "      <th>ORDERNUMBER</th>\n",
       "      <th>QUANTITYORDERED</th>\n",
       "      <th>PRICEEACH</th>\n",
       "      <th>ORDERLINENUMBER</th>\n",
       "      <th>SALES</th>\n",
       "      <th>Date</th>\n",
       "      <th>STATUS</th>\n",
       "      <th>QTR_ID</th>\n",
       "      <th>MONTH_ID</th>\n",
       "      <th>PRODUCTLINE</th>\n",
       "      <th>MSRP</th>\n",
       "      <th>PRODUCTCODE</th>\n",
       "      <th>CONTACTLASTNAME</th>\n",
       "      <th>CONTACTFIRSTNAME</th>\n",
       "      <th>DEALSIZE</th>\n",
       "    </tr>\n",
       "  </thead>\n",
       "  <tbody>\n",
       "    <tr>\n",
       "      <td>0</td>\n",
       "      <td>BKG0098</td>\n",
       "      <td>10100</td>\n",
       "      <td>30</td>\n",
       "      <td>100.00</td>\n",
       "      <td>3</td>\n",
       "      <td>5151.00</td>\n",
       "      <td>2017-01-06</td>\n",
       "      <td>Shipped</td>\n",
       "      <td>1</td>\n",
       "      <td>1</td>\n",
       "      <td>Vintage Cars</td>\n",
       "      <td>170</td>\n",
       "      <td>S18_1749</td>\n",
       "      <td>Young</td>\n",
       "      <td>Valarie</td>\n",
       "      <td>Medium</td>\n",
       "    </tr>\n",
       "    <tr>\n",
       "      <td>1</td>\n",
       "      <td>BKG0098</td>\n",
       "      <td>10100</td>\n",
       "      <td>50</td>\n",
       "      <td>67.80</td>\n",
       "      <td>2</td>\n",
       "      <td>3390.00</td>\n",
       "      <td>2017-01-06</td>\n",
       "      <td>Shipped</td>\n",
       "      <td>1</td>\n",
       "      <td>1</td>\n",
       "      <td>Vintage Cars</td>\n",
       "      <td>60</td>\n",
       "      <td>S18_2248</td>\n",
       "      <td>Young</td>\n",
       "      <td>Valarie</td>\n",
       "      <td>Medium</td>\n",
       "    </tr>\n",
       "    <tr>\n",
       "      <td>2</td>\n",
       "      <td>BKG0098</td>\n",
       "      <td>10100</td>\n",
       "      <td>22</td>\n",
       "      <td>86.51</td>\n",
       "      <td>4</td>\n",
       "      <td>1903.22</td>\n",
       "      <td>2017-01-06</td>\n",
       "      <td>Shipped</td>\n",
       "      <td>1</td>\n",
       "      <td>1</td>\n",
       "      <td>Vintage Cars</td>\n",
       "      <td>92</td>\n",
       "      <td>S18_4409</td>\n",
       "      <td>Young</td>\n",
       "      <td>Valarie</td>\n",
       "      <td>Small</td>\n",
       "    </tr>\n",
       "    <tr>\n",
       "      <td>3</td>\n",
       "      <td>BKG0098</td>\n",
       "      <td>10100</td>\n",
       "      <td>49</td>\n",
       "      <td>34.47</td>\n",
       "      <td>1</td>\n",
       "      <td>1689.03</td>\n",
       "      <td>2017-01-06</td>\n",
       "      <td>Shipped</td>\n",
       "      <td>1</td>\n",
       "      <td>1</td>\n",
       "      <td>Vintage Cars</td>\n",
       "      <td>41</td>\n",
       "      <td>S24_3969</td>\n",
       "      <td>Young</td>\n",
       "      <td>Valarie</td>\n",
       "      <td>Small</td>\n",
       "    </tr>\n",
       "    <tr>\n",
       "      <td>4</td>\n",
       "      <td>4KE0971</td>\n",
       "      <td>10101</td>\n",
       "      <td>25</td>\n",
       "      <td>100.00</td>\n",
       "      <td>4</td>\n",
       "      <td>3782.00</td>\n",
       "      <td>2017-01-09</td>\n",
       "      <td>Shipped</td>\n",
       "      <td>1</td>\n",
       "      <td>1</td>\n",
       "      <td>Vintage Cars</td>\n",
       "      <td>127</td>\n",
       "      <td>S18_2325</td>\n",
       "      <td>Keitel</td>\n",
       "      <td>Roland</td>\n",
       "      <td>Medium</td>\n",
       "    </tr>\n",
       "    <tr>\n",
       "      <td>...</td>\n",
       "      <td>...</td>\n",
       "      <td>...</td>\n",
       "      <td>...</td>\n",
       "      <td>...</td>\n",
       "      <td>...</td>\n",
       "      <td>...</td>\n",
       "      <td>...</td>\n",
       "      <td>...</td>\n",
       "      <td>...</td>\n",
       "      <td>...</td>\n",
       "      <td>...</td>\n",
       "      <td>...</td>\n",
       "      <td>...</td>\n",
       "      <td>...</td>\n",
       "      <td>...</td>\n",
       "      <td>...</td>\n",
       "    </tr>\n",
       "    <tr>\n",
       "      <td>2818</td>\n",
       "      <td>0OK0410</td>\n",
       "      <td>10425</td>\n",
       "      <td>41</td>\n",
       "      <td>86.68</td>\n",
       "      <td>11</td>\n",
       "      <td>3553.88</td>\n",
       "      <td>2019-05-31</td>\n",
       "      <td>In Process</td>\n",
       "      <td>2</td>\n",
       "      <td>5</td>\n",
       "      <td>Trucks and Buses</td>\n",
       "      <td>96</td>\n",
       "      <td>S32_1268</td>\n",
       "      <td>Labrune</td>\n",
       "      <td>Janine</td>\n",
       "      <td>Medium</td>\n",
       "    </tr>\n",
       "    <tr>\n",
       "      <td>2819</td>\n",
       "      <td>0OK0410</td>\n",
       "      <td>10425</td>\n",
       "      <td>11</td>\n",
       "      <td>43.83</td>\n",
       "      <td>6</td>\n",
       "      <td>482.13</td>\n",
       "      <td>2019-05-31</td>\n",
       "      <td>In Process</td>\n",
       "      <td>2</td>\n",
       "      <td>5</td>\n",
       "      <td>Trucks and Buses</td>\n",
       "      <td>54</td>\n",
       "      <td>S32_2509</td>\n",
       "      <td>Labrune</td>\n",
       "      <td>Janine</td>\n",
       "      <td>Small</td>\n",
       "    </tr>\n",
       "    <tr>\n",
       "      <td>2820</td>\n",
       "      <td>9LK0743</td>\n",
       "      <td>10424</td>\n",
       "      <td>44</td>\n",
       "      <td>61.41</td>\n",
       "      <td>2</td>\n",
       "      <td>2702.04</td>\n",
       "      <td>2019-05-31</td>\n",
       "      <td>In Process</td>\n",
       "      <td>2</td>\n",
       "      <td>5</td>\n",
       "      <td>Trucks and Buses</td>\n",
       "      <td>64</td>\n",
       "      <td>S32_3522</td>\n",
       "      <td>Freyre</td>\n",
       "      <td>Diego</td>\n",
       "      <td>Small</td>\n",
       "    </tr>\n",
       "    <tr>\n",
       "      <td>2821</td>\n",
       "      <td>0OK0410</td>\n",
       "      <td>10425</td>\n",
       "      <td>18</td>\n",
       "      <td>100.00</td>\n",
       "      <td>2</td>\n",
       "      <td>1895.94</td>\n",
       "      <td>2019-05-31</td>\n",
       "      <td>In Process</td>\n",
       "      <td>2</td>\n",
       "      <td>5</td>\n",
       "      <td>Trucks and Buses</td>\n",
       "      <td>115</td>\n",
       "      <td>S50_1392</td>\n",
       "      <td>Labrune</td>\n",
       "      <td>Janine</td>\n",
       "      <td>Small</td>\n",
       "    </tr>\n",
       "    <tr>\n",
       "      <td>2822</td>\n",
       "      <td>9LK0743</td>\n",
       "      <td>10424</td>\n",
       "      <td>46</td>\n",
       "      <td>80.92</td>\n",
       "      <td>1</td>\n",
       "      <td>3722.32</td>\n",
       "      <td>2019-05-31</td>\n",
       "      <td>In Process</td>\n",
       "      <td>2</td>\n",
       "      <td>5</td>\n",
       "      <td>Classic Cars</td>\n",
       "      <td>101</td>\n",
       "      <td>S700_2824</td>\n",
       "      <td>Freyre</td>\n",
       "      <td>Diego</td>\n",
       "      <td>Medium</td>\n",
       "    </tr>\n",
       "  </tbody>\n",
       "</table>\n",
       "<p>2823 rows × 16 columns</p>\n",
       "</div>"
      ],
      "text/plain": [
       "     ClientID  ORDERNUMBER  QUANTITYORDERED  PRICEEACH  ORDERLINENUMBER  \\\n",
       "0     BKG0098        10100               30     100.00                3   \n",
       "1     BKG0098        10100               50      67.80                2   \n",
       "2     BKG0098        10100               22      86.51                4   \n",
       "3     BKG0098        10100               49      34.47                1   \n",
       "4     4KE0971        10101               25     100.00                4   \n",
       "...       ...          ...              ...        ...              ...   \n",
       "2818  0OK0410        10425               41      86.68               11   \n",
       "2819  0OK0410        10425               11      43.83                6   \n",
       "2820  9LK0743        10424               44      61.41                2   \n",
       "2821  0OK0410        10425               18     100.00                2   \n",
       "2822  9LK0743        10424               46      80.92                1   \n",
       "\n",
       "        SALES       Date      STATUS  QTR_ID  MONTH_ID       PRODUCTLINE  \\\n",
       "0     5151.00 2017-01-06     Shipped       1         1      Vintage Cars   \n",
       "1     3390.00 2017-01-06     Shipped       1         1      Vintage Cars   \n",
       "2     1903.22 2017-01-06     Shipped       1         1      Vintage Cars   \n",
       "3     1689.03 2017-01-06     Shipped       1         1      Vintage Cars   \n",
       "4     3782.00 2017-01-09     Shipped       1         1      Vintage Cars   \n",
       "...       ...        ...         ...     ...       ...               ...   \n",
       "2818  3553.88 2019-05-31  In Process       2         5  Trucks and Buses   \n",
       "2819   482.13 2019-05-31  In Process       2         5  Trucks and Buses   \n",
       "2820  2702.04 2019-05-31  In Process       2         5  Trucks and Buses   \n",
       "2821  1895.94 2019-05-31  In Process       2         5  Trucks and Buses   \n",
       "2822  3722.32 2019-05-31  In Process       2         5      Classic Cars   \n",
       "\n",
       "      MSRP PRODUCTCODE CONTACTLASTNAME CONTACTFIRSTNAME DEALSIZE  \n",
       "0      170    S18_1749           Young          Valarie   Medium  \n",
       "1       60    S18_2248           Young          Valarie   Medium  \n",
       "2       92    S18_4409           Young          Valarie    Small  \n",
       "3       41    S24_3969           Young          Valarie    Small  \n",
       "4      127    S18_2325          Keitel           Roland   Medium  \n",
       "...    ...         ...             ...              ...      ...  \n",
       "2818    96    S32_1268         Labrune           Janine   Medium  \n",
       "2819    54    S32_2509         Labrune           Janine    Small  \n",
       "2820    64    S32_3522          Freyre            Diego    Small  \n",
       "2821   115    S50_1392         Labrune           Janine    Small  \n",
       "2822   101   S700_2824          Freyre            Diego   Medium  \n",
       "\n",
       "[2823 rows x 16 columns]"
      ]
     },
     "execution_count": 166,
     "metadata": {},
     "output_type": "execute_result"
    }
   ],
   "source": [
    "orders"
   ]
  },
  {
   "cell_type": "markdown",
   "metadata": {},
   "source": [
    "### And this is Excel in steroids"
   ]
  },
  {
   "cell_type": "markdown",
   "metadata": {},
   "source": [
    "#### Here we can\n",
    "* Reference data (This session)\n",
    "* Operate with data (This session)\n",
    "* Filter data (Next Session)\n",
    "* Aggregate data (Next Session)\n",
    "* All with a single command. We can enve perfom the three operations at a time with a single command"
   ]
  },
  {
   "cell_type": "code",
   "execution_count": 167,
   "metadata": {},
   "outputs": [
    {
     "data": {
      "text/html": [
       "<div>\n",
       "<style scoped>\n",
       "    .dataframe tbody tr th:only-of-type {\n",
       "        vertical-align: middle;\n",
       "    }\n",
       "\n",
       "    .dataframe tbody tr th {\n",
       "        vertical-align: top;\n",
       "    }\n",
       "\n",
       "    .dataframe thead th {\n",
       "        text-align: right;\n",
       "    }\n",
       "</style>\n",
       "<table border=\"1\" class=\"dataframe\">\n",
       "  <thead>\n",
       "    <tr style=\"text-align: right;\">\n",
       "      <th></th>\n",
       "      <th>ClientID</th>\n",
       "      <th>ORDERNUMBER</th>\n",
       "      <th>QUANTITYORDERED</th>\n",
       "      <th>PRICEEACH</th>\n",
       "      <th>ORDERLINENUMBER</th>\n",
       "      <th>SALES</th>\n",
       "      <th>Date</th>\n",
       "      <th>STATUS</th>\n",
       "      <th>QTR_ID</th>\n",
       "      <th>MONTH_ID</th>\n",
       "      <th>PRODUCTLINE</th>\n",
       "      <th>MSRP</th>\n",
       "      <th>PRODUCTCODE</th>\n",
       "      <th>CONTACTLASTNAME</th>\n",
       "      <th>CONTACTFIRSTNAME</th>\n",
       "      <th>DEALSIZE</th>\n",
       "    </tr>\n",
       "  </thead>\n",
       "  <tbody>\n",
       "    <tr>\n",
       "      <td>0</td>\n",
       "      <td>BKG0098</td>\n",
       "      <td>10100</td>\n",
       "      <td>30</td>\n",
       "      <td>100.00</td>\n",
       "      <td>3</td>\n",
       "      <td>5151.00</td>\n",
       "      <td>2017-01-06</td>\n",
       "      <td>Shipped</td>\n",
       "      <td>1</td>\n",
       "      <td>1</td>\n",
       "      <td>Vintage Cars</td>\n",
       "      <td>170</td>\n",
       "      <td>S18_1749</td>\n",
       "      <td>Young</td>\n",
       "      <td>Valarie</td>\n",
       "      <td>Medium</td>\n",
       "    </tr>\n",
       "    <tr>\n",
       "      <td>1</td>\n",
       "      <td>BKG0098</td>\n",
       "      <td>10100</td>\n",
       "      <td>50</td>\n",
       "      <td>67.80</td>\n",
       "      <td>2</td>\n",
       "      <td>3390.00</td>\n",
       "      <td>2017-01-06</td>\n",
       "      <td>Shipped</td>\n",
       "      <td>1</td>\n",
       "      <td>1</td>\n",
       "      <td>Vintage Cars</td>\n",
       "      <td>60</td>\n",
       "      <td>S18_2248</td>\n",
       "      <td>Young</td>\n",
       "      <td>Valarie</td>\n",
       "      <td>Medium</td>\n",
       "    </tr>\n",
       "    <tr>\n",
       "      <td>2</td>\n",
       "      <td>BKG0098</td>\n",
       "      <td>10100</td>\n",
       "      <td>22</td>\n",
       "      <td>86.51</td>\n",
       "      <td>4</td>\n",
       "      <td>1903.22</td>\n",
       "      <td>2017-01-06</td>\n",
       "      <td>Shipped</td>\n",
       "      <td>1</td>\n",
       "      <td>1</td>\n",
       "      <td>Vintage Cars</td>\n",
       "      <td>92</td>\n",
       "      <td>S18_4409</td>\n",
       "      <td>Young</td>\n",
       "      <td>Valarie</td>\n",
       "      <td>Small</td>\n",
       "    </tr>\n",
       "    <tr>\n",
       "      <td>3</td>\n",
       "      <td>BKG0098</td>\n",
       "      <td>10100</td>\n",
       "      <td>49</td>\n",
       "      <td>34.47</td>\n",
       "      <td>1</td>\n",
       "      <td>1689.03</td>\n",
       "      <td>2017-01-06</td>\n",
       "      <td>Shipped</td>\n",
       "      <td>1</td>\n",
       "      <td>1</td>\n",
       "      <td>Vintage Cars</td>\n",
       "      <td>41</td>\n",
       "      <td>S24_3969</td>\n",
       "      <td>Young</td>\n",
       "      <td>Valarie</td>\n",
       "      <td>Small</td>\n",
       "    </tr>\n",
       "    <tr>\n",
       "      <td>4</td>\n",
       "      <td>4KE0971</td>\n",
       "      <td>10101</td>\n",
       "      <td>25</td>\n",
       "      <td>100.00</td>\n",
       "      <td>4</td>\n",
       "      <td>3782.00</td>\n",
       "      <td>2017-01-09</td>\n",
       "      <td>Shipped</td>\n",
       "      <td>1</td>\n",
       "      <td>1</td>\n",
       "      <td>Vintage Cars</td>\n",
       "      <td>127</td>\n",
       "      <td>S18_2325</td>\n",
       "      <td>Keitel</td>\n",
       "      <td>Roland</td>\n",
       "      <td>Medium</td>\n",
       "    </tr>\n",
       "  </tbody>\n",
       "</table>\n",
       "</div>"
      ],
      "text/plain": [
       "  ClientID  ORDERNUMBER  QUANTITYORDERED  PRICEEACH  ORDERLINENUMBER    SALES  \\\n",
       "0  BKG0098        10100               30     100.00                3  5151.00   \n",
       "1  BKG0098        10100               50      67.80                2  3390.00   \n",
       "2  BKG0098        10100               22      86.51                4  1903.22   \n",
       "3  BKG0098        10100               49      34.47                1  1689.03   \n",
       "4  4KE0971        10101               25     100.00                4  3782.00   \n",
       "\n",
       "        Date   STATUS  QTR_ID  MONTH_ID   PRODUCTLINE  MSRP PRODUCTCODE  \\\n",
       "0 2017-01-06  Shipped       1         1  Vintage Cars   170    S18_1749   \n",
       "1 2017-01-06  Shipped       1         1  Vintage Cars    60    S18_2248   \n",
       "2 2017-01-06  Shipped       1         1  Vintage Cars    92    S18_4409   \n",
       "3 2017-01-06  Shipped       1         1  Vintage Cars    41    S24_3969   \n",
       "4 2017-01-09  Shipped       1         1  Vintage Cars   127    S18_2325   \n",
       "\n",
       "  CONTACTLASTNAME CONTACTFIRSTNAME DEALSIZE  \n",
       "0           Young          Valarie   Medium  \n",
       "1           Young          Valarie   Medium  \n",
       "2           Young          Valarie    Small  \n",
       "3           Young          Valarie    Small  \n",
       "4          Keitel           Roland   Medium  "
      ]
     },
     "execution_count": 167,
     "metadata": {},
     "output_type": "execute_result"
    }
   ],
   "source": [
    "orders.head()"
   ]
  },
  {
   "cell_type": "code",
   "execution_count": 168,
   "metadata": {},
   "outputs": [
    {
     "data": {
      "text/html": [
       "<div>\n",
       "<style scoped>\n",
       "    .dataframe tbody tr th:only-of-type {\n",
       "        vertical-align: middle;\n",
       "    }\n",
       "\n",
       "    .dataframe tbody tr th {\n",
       "        vertical-align: top;\n",
       "    }\n",
       "\n",
       "    .dataframe thead th {\n",
       "        text-align: right;\n",
       "    }\n",
       "</style>\n",
       "<table border=\"1\" class=\"dataframe\">\n",
       "  <thead>\n",
       "    <tr style=\"text-align: right;\">\n",
       "      <th></th>\n",
       "      <th>ClientID</th>\n",
       "      <th>ORDERNUMBER</th>\n",
       "      <th>QUANTITYORDERED</th>\n",
       "      <th>PRICEEACH</th>\n",
       "      <th>ORDERLINENUMBER</th>\n",
       "      <th>SALES</th>\n",
       "      <th>Date</th>\n",
       "      <th>STATUS</th>\n",
       "      <th>QTR_ID</th>\n",
       "      <th>MONTH_ID</th>\n",
       "      <th>PRODUCTLINE</th>\n",
       "      <th>MSRP</th>\n",
       "      <th>PRODUCTCODE</th>\n",
       "      <th>CONTACTLASTNAME</th>\n",
       "      <th>CONTACTFIRSTNAME</th>\n",
       "      <th>DEALSIZE</th>\n",
       "    </tr>\n",
       "  </thead>\n",
       "  <tbody>\n",
       "    <tr>\n",
       "      <td>2818</td>\n",
       "      <td>0OK0410</td>\n",
       "      <td>10425</td>\n",
       "      <td>41</td>\n",
       "      <td>86.68</td>\n",
       "      <td>11</td>\n",
       "      <td>3553.88</td>\n",
       "      <td>2019-05-31</td>\n",
       "      <td>In Process</td>\n",
       "      <td>2</td>\n",
       "      <td>5</td>\n",
       "      <td>Trucks and Buses</td>\n",
       "      <td>96</td>\n",
       "      <td>S32_1268</td>\n",
       "      <td>Labrune</td>\n",
       "      <td>Janine</td>\n",
       "      <td>Medium</td>\n",
       "    </tr>\n",
       "    <tr>\n",
       "      <td>2819</td>\n",
       "      <td>0OK0410</td>\n",
       "      <td>10425</td>\n",
       "      <td>11</td>\n",
       "      <td>43.83</td>\n",
       "      <td>6</td>\n",
       "      <td>482.13</td>\n",
       "      <td>2019-05-31</td>\n",
       "      <td>In Process</td>\n",
       "      <td>2</td>\n",
       "      <td>5</td>\n",
       "      <td>Trucks and Buses</td>\n",
       "      <td>54</td>\n",
       "      <td>S32_2509</td>\n",
       "      <td>Labrune</td>\n",
       "      <td>Janine</td>\n",
       "      <td>Small</td>\n",
       "    </tr>\n",
       "    <tr>\n",
       "      <td>2820</td>\n",
       "      <td>9LK0743</td>\n",
       "      <td>10424</td>\n",
       "      <td>44</td>\n",
       "      <td>61.41</td>\n",
       "      <td>2</td>\n",
       "      <td>2702.04</td>\n",
       "      <td>2019-05-31</td>\n",
       "      <td>In Process</td>\n",
       "      <td>2</td>\n",
       "      <td>5</td>\n",
       "      <td>Trucks and Buses</td>\n",
       "      <td>64</td>\n",
       "      <td>S32_3522</td>\n",
       "      <td>Freyre</td>\n",
       "      <td>Diego</td>\n",
       "      <td>Small</td>\n",
       "    </tr>\n",
       "    <tr>\n",
       "      <td>2821</td>\n",
       "      <td>0OK0410</td>\n",
       "      <td>10425</td>\n",
       "      <td>18</td>\n",
       "      <td>100.00</td>\n",
       "      <td>2</td>\n",
       "      <td>1895.94</td>\n",
       "      <td>2019-05-31</td>\n",
       "      <td>In Process</td>\n",
       "      <td>2</td>\n",
       "      <td>5</td>\n",
       "      <td>Trucks and Buses</td>\n",
       "      <td>115</td>\n",
       "      <td>S50_1392</td>\n",
       "      <td>Labrune</td>\n",
       "      <td>Janine</td>\n",
       "      <td>Small</td>\n",
       "    </tr>\n",
       "    <tr>\n",
       "      <td>2822</td>\n",
       "      <td>9LK0743</td>\n",
       "      <td>10424</td>\n",
       "      <td>46</td>\n",
       "      <td>80.92</td>\n",
       "      <td>1</td>\n",
       "      <td>3722.32</td>\n",
       "      <td>2019-05-31</td>\n",
       "      <td>In Process</td>\n",
       "      <td>2</td>\n",
       "      <td>5</td>\n",
       "      <td>Classic Cars</td>\n",
       "      <td>101</td>\n",
       "      <td>S700_2824</td>\n",
       "      <td>Freyre</td>\n",
       "      <td>Diego</td>\n",
       "      <td>Medium</td>\n",
       "    </tr>\n",
       "  </tbody>\n",
       "</table>\n",
       "</div>"
      ],
      "text/plain": [
       "     ClientID  ORDERNUMBER  QUANTITYORDERED  PRICEEACH  ORDERLINENUMBER  \\\n",
       "2818  0OK0410        10425               41      86.68               11   \n",
       "2819  0OK0410        10425               11      43.83                6   \n",
       "2820  9LK0743        10424               44      61.41                2   \n",
       "2821  0OK0410        10425               18     100.00                2   \n",
       "2822  9LK0743        10424               46      80.92                1   \n",
       "\n",
       "        SALES       Date      STATUS  QTR_ID  MONTH_ID       PRODUCTLINE  \\\n",
       "2818  3553.88 2019-05-31  In Process       2         5  Trucks and Buses   \n",
       "2819   482.13 2019-05-31  In Process       2         5  Trucks and Buses   \n",
       "2820  2702.04 2019-05-31  In Process       2         5  Trucks and Buses   \n",
       "2821  1895.94 2019-05-31  In Process       2         5  Trucks and Buses   \n",
       "2822  3722.32 2019-05-31  In Process       2         5      Classic Cars   \n",
       "\n",
       "      MSRP PRODUCTCODE CONTACTLASTNAME CONTACTFIRSTNAME DEALSIZE  \n",
       "2818    96    S32_1268         Labrune           Janine   Medium  \n",
       "2819    54    S32_2509         Labrune           Janine    Small  \n",
       "2820    64    S32_3522          Freyre            Diego    Small  \n",
       "2821   115    S50_1392         Labrune           Janine    Small  \n",
       "2822   101   S700_2824          Freyre            Diego   Medium  "
      ]
     },
     "execution_count": 168,
     "metadata": {},
     "output_type": "execute_result"
    }
   ],
   "source": [
    "orders.tail()"
   ]
  }
 ],
 "metadata": {
  "kernelspec": {
   "display_name": "Python 3",
   "language": "python",
   "name": "python3"
  },
  "language_info": {
   "codemirror_mode": {
    "name": "ipython",
    "version": 3
   },
   "file_extension": ".py",
   "mimetype": "text/x-python",
   "name": "python",
   "nbconvert_exporter": "python",
   "pygments_lexer": "ipython3",
   "version": "3.7.4"
  }
 },
 "nbformat": 4,
 "nbformat_minor": 2
}
